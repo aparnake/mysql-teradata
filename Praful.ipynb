{
  "nbformat": 4,
  "nbformat_minor": 0,
  "metadata": {
    "colab": {
      "name": "Praful",
      "provenance": [],
      "collapsed_sections": [],
      "authorship_tag": "ABX9TyOliF9aUxamVHvFSoHK3EKn",
      "include_colab_link": true
    },
    "kernelspec": {
      "name": "python3",
      "display_name": "Python 3"
    }
  },
  "cells": [
    {
      "cell_type": "markdown",
      "metadata": {
        "id": "view-in-github",
        "colab_type": "text"
      },
      "source": [
        "<a href=\"https://colab.research.google.com/github/aparnake/mysql-teradata/blob/master/Praful.ipynb\" target=\"_parent\"><img src=\"https://colab.research.google.com/assets/colab-badge.svg\" alt=\"Open In Colab\"/></a>"
      ]
    },
    {
      "cell_type": "code",
      "metadata": {
        "colab": {
          "base_uri": "https://localhost:8080/"
        },
        "id": "dMqI610OQ5GO",
        "outputId": "78510f09-de2e-4aa7-d175-e2d6a0a163b0"
      },
      "source": [
        "count=0\n",
        "while (count<5):\n",
        "  count=count+1\n",
        "  if count==2:\n",
        "    continue\n",
        "  print(\"Count's value is \",count)"
      ],
      "execution_count": 3,
      "outputs": [
        {
          "output_type": "stream",
          "text": [
            "Count's value is  1\n",
            "Count's value is  3\n",
            "Count's value is  4\n",
            "Count's value is  5\n"
          ],
          "name": "stdout"
        }
      ]
    },
    {
      "cell_type": "code",
      "metadata": {
        "colab": {
          "base_uri": "https://localhost:8080/"
        },
        "id": "br_Nwg1VcnGN",
        "outputId": "0c63e236-0624-48be-822a-a34fb9297016"
      },
      "source": [
        "for i in ('Aparna'):\n",
        "  print(i)"
      ],
      "execution_count": 8,
      "outputs": [
        {
          "output_type": "stream",
          "text": [
            "A\n",
            "p\n",
            "a\n",
            "r\n",
            "n\n",
            "a\n"
          ],
          "name": "stdout"
        }
      ]
    },
    {
      "cell_type": "code",
      "metadata": {
        "colab": {
          "base_uri": "https://localhost:8080/"
        },
        "id": "sYusRkj1c3NF",
        "outputId": "61645ec1-309f-4296-ee64-ac2133741fa7"
      },
      "source": [
        "print('I live in ')\n",
        "for i in range(10):\n",
        "  print('mumbai',i)"
      ],
      "execution_count": 9,
      "outputs": [
        {
          "output_type": "stream",
          "text": [
            "I live in \n",
            "mumbai 0\n",
            "mumbai 1\n",
            "mumbai 2\n",
            "mumbai 3\n",
            "mumbai 4\n",
            "mumbai 5\n",
            "mumbai 6\n",
            "mumbai 7\n",
            "mumbai 8\n",
            "mumbai 9\n"
          ],
          "name": "stdout"
        }
      ]
    },
    {
      "cell_type": "code",
      "metadata": {
        "colab": {
          "base_uri": "https://localhost:8080/"
        },
        "id": "iAusceIpddpE",
        "outputId": "055c6de0-816a-4862-9523-f62821126392"
      },
      "source": [
        "sum=0\n",
        "for i in range(20):\n",
        "  sum=sum+i\n",
        "  print('The sum value is: ',sum)\n",
        "print('The sum value is: ',sum)"
      ],
      "execution_count": 11,
      "outputs": [
        {
          "output_type": "stream",
          "text": [
            "The sum value is:  0\n",
            "The sum value is:  1\n",
            "The sum value is:  3\n",
            "The sum value is:  6\n",
            "The sum value is:  10\n",
            "The sum value is:  15\n",
            "The sum value is:  21\n",
            "The sum value is:  28\n",
            "The sum value is:  36\n",
            "The sum value is:  45\n",
            "The sum value is:  55\n",
            "The sum value is:  66\n",
            "The sum value is:  78\n",
            "The sum value is:  91\n",
            "The sum value is:  105\n",
            "The sum value is:  120\n",
            "The sum value is:  136\n",
            "The sum value is:  153\n",
            "The sum value is:  171\n",
            "The sum value is:  190\n",
            "The sum value is:  190\n"
          ],
          "name": "stdout"
        }
      ]
    },
    {
      "cell_type": "code",
      "metadata": {
        "colab": {
          "base_uri": "https://localhost:8080/"
        },
        "id": "cvXyXGKLgt0W",
        "outputId": "22472f05-a279-4a12-92db-3dbaf0ad3a98"
      },
      "source": [
        "import random\n",
        "random.randint(-66,-1)"
      ],
      "execution_count": 15,
      "outputs": [
        {
          "output_type": "execute_result",
          "data": {
            "text/plain": [
              "-4"
            ]
          },
          "metadata": {
            "tags": []
          },
          "execution_count": 15
        }
      ]
    },
    {
      "cell_type": "code",
      "metadata": {
        "colab": {
          "base_uri": "https://localhost:8080/"
        },
        "id": "NFcUPE6km2o5",
        "outputId": "31db516b-3aff-45b7-82aa-e53a6af850b9"
      },
      "source": [
        "import random\n",
        "num1=int(input('number1: '))\n",
        "num2=int(input('number2: '))\n",
        "random.randint(num1,num2)"
      ],
      "execution_count": 22,
      "outputs": [
        {
          "output_type": "stream",
          "text": [
            "number1: 45\n",
            "number2: 67\n"
          ],
          "name": "stdout"
        },
        {
          "output_type": "execute_result",
          "data": {
            "text/plain": [
              "63"
            ]
          },
          "metadata": {
            "tags": []
          },
          "execution_count": 22
        }
      ]
    },
    {
      "cell_type": "code",
      "metadata": {
        "colab": {
          "base_uri": "https://localhost:8080/"
        },
        "id": "tLgB25tjdkUo",
        "outputId": "a378ee66-5ba7-403c-ac27-4a632dff5b52"
      },
      "source": [
        "for i in ('Aparna'):  \n",
        "  print(i)"
      ],
      "execution_count": 2,
      "outputs": [
        {
          "output_type": "stream",
          "text": [
            "A\n",
            "p\n",
            "a\n",
            "r\n",
            "n\n",
            "a\n"
          ],
          "name": "stdout"
        }
      ]
    },
    {
      "cell_type": "code",
      "metadata": {
        "colab": {
          "base_uri": "https://localhost:8080/"
        },
        "id": "tgUd3lVSdyYm",
        "outputId": "5d04840c-3fb0-4acb-d32e-4a99503204ad"
      },
      "source": [
        "def name():\n",
        "  print('My name is Aparna')\n",
        "  print('Im learning Python')\n",
        "name()"
      ],
      "execution_count": 3,
      "outputs": [
        {
          "output_type": "stream",
          "text": [
            "My name is Aparna\n",
            "Im learning Python\n"
          ],
          "name": "stdout"
        }
      ]
    },
    {
      "cell_type": "code",
      "metadata": {
        "colab": {
          "base_uri": "https://localhost:8080/"
        },
        "id": "gbHS-q7cjEgi",
        "outputId": "42eb2fc7-95ee-4361-d9cc-8b30477fc1b6"
      },
      "source": [
        "def displayname(name):\n",
        "  print('Hello '+name)\n",
        "x=input('Please enter your name')\n",
        "displayname(x)"
      ],
      "execution_count": 5,
      "outputs": [
        {
          "output_type": "stream",
          "text": [
            "Please enter your nameAparna\n",
            "Hello Aparna\n"
          ],
          "name": "stdout"
        }
      ]
    },
    {
      "cell_type": "code",
      "metadata": {
        "colab": {
          "base_uri": "https://localhost:8080/"
        },
        "id": "EoW6y_OpjXqY",
        "outputId": "5834ee3e-1943-4fa9-f60e-4afb151e7fc7"
      },
      "source": [
        "def increment(number):\n",
        "  return(number+1)\n",
        "\n",
        "print(increment(10))"
      ],
      "execution_count": 10,
      "outputs": [
        {
          "output_type": "stream",
          "text": [
            "11\n"
          ],
          "name": "stdout"
        }
      ]
    },
    {
      "cell_type": "code",
      "metadata": {
        "colab": {
          "base_uri": "https://localhost:8080/"
        },
        "id": "qAcoyq-QpTOA",
        "outputId": "95393d69-9778-423e-9814-ef10a41d5dd3"
      },
      "source": [
        "print('Menu')\n",
        "print(\"1.add 2.subtract 3.multiply 4.subtract \")\n",
        "choice=input('Please enter your choice')\n",
        "\n",
        "def add():\n",
        "  num1=int(input('Please enter number 1: '))\n",
        "  num2=int(input('Please enter number 2: '))\n",
        "  result=num1+num2\n",
        "  print('The sum of the two numbers is: ',result)\n",
        "\n",
        "def sub():\n",
        "  num1=int(input('Please enter number 1: '))\n",
        "  num2=int(input('Please enter number 2: '))\n",
        "  result=num1-num2\n",
        "  print('The result of the two numbers is: ',result)\n",
        "\n",
        "def mult():\n",
        "  num1=int(input('Please enter number 1: '))\n",
        "  num2=int(input('Please enter number 2: '))\n",
        "  result=num1*num2\n",
        "  print('The product of the two numbers is: ',result)\n",
        "\n",
        "def div():\n",
        "  num1=int(input('Please enter number 1: '))\n",
        "  num2=int(input('Please enter number 2: '))\n",
        "  result=num1/num2\n",
        "  print('The div of the two numbers is: ',result)\n",
        "\n",
        "if choice=='1':\n",
        "  add()\n",
        "elif choice=='2':\n",
        "  sub()\n",
        "elif choice=='3':\n",
        "  mult()\n",
        "elif choice=='4':\n",
        "  div()\n",
        "else:\n",
        "  print('Invalid choice')"
      ],
      "execution_count": 19,
      "outputs": [
        {
          "output_type": "stream",
          "text": [
            "Menu\n",
            "1.add 2.subtract 3.multiply 4.subtract \n",
            "Please enter your choice2\n",
            "Please enter number 1: 4\n",
            "Please enter number 2: 3\n",
            "The result of the two numbers is:  1\n"
          ],
          "name": "stdout"
        }
      ]
    },
    {
      "cell_type": "code",
      "metadata": {
        "colab": {
          "base_uri": "https://localhost:8080/"
        },
        "id": "j6x-ZsM5zWau",
        "outputId": "1fb53ec0-d485-4bb9-c240-500d29e9c996"
      },
      "source": [
        "def greatest():\n",
        "  num1=int(input('Please enter number 1: '))\n",
        "  num2=int(input('Please enter number 2: '))\n",
        "  if num1>num2:\n",
        "    print('The greater number is: ',num1)\n",
        "  else:\n",
        "    print('The greater number is: ',num2)\n",
        "greatest()"
      ],
      "execution_count": 20,
      "outputs": [
        {
          "output_type": "stream",
          "text": [
            "Please enter number 1: 45\n",
            "Please enter number 2: 67\n",
            "The greater number is:  67\n"
          ],
          "name": "stdout"
        }
      ]
    },
    {
      "cell_type": "code",
      "metadata": {
        "colab": {
          "base_uri": "https://localhost:8080/"
        },
        "id": "jIAiRv4yz4Ja",
        "outputId": "2df3f141-6f8f-47c2-eca2-37d0b4c61e12"
      },
      "source": [
        "num1=int(input('Please enter number 1: '))\n",
        "num2=int(input('Please enter number 2: '))\n",
        "def greatest(num1,num2):\n",
        "  if num1>num2:\n",
        "    print('The greater number is: ',num1)\n",
        "  else:\n",
        "    print('The greater number is: ',num2)\n",
        "greatest(num1,num2)"
      ],
      "execution_count": 23,
      "outputs": [
        {
          "output_type": "stream",
          "text": [
            "Please enter number 1: 34\n",
            "Please enter number 2: 56\n",
            "The greater number is:  56\n"
          ],
          "name": "stdout"
        }
      ]
    },
    {
      "cell_type": "code",
      "metadata": {
        "colab": {
          "base_uri": "https://localhost:8080/"
        },
        "id": "sXyd98ExbqOW",
        "outputId": "2aaea7dc-b023-49aa-c7c9-c8395f9ea75f"
      },
      "source": [
        "\n",
        "def sum1():\n",
        "  sum=0\n",
        "  for i in range(10):\n",
        "    sum=sum+i\n",
        "    print('sum value is: ',sum)\n",
        "sum1()\n",
        "  \n",
        "\n",
        "\n",
        "\n"
      ],
      "execution_count": 36,
      "outputs": [
        {
          "output_type": "stream",
          "text": [
            "sum value is:  0\n",
            "sum value is:  1\n",
            "sum value is:  3\n",
            "sum value is:  6\n",
            "sum value is:  10\n",
            "sum value is:  15\n",
            "sum value is:  21\n",
            "sum value is:  28\n",
            "sum value is:  36\n",
            "sum value is:  45\n"
          ],
          "name": "stdout"
        }
      ]
    },
    {
      "cell_type": "code",
      "metadata": {
        "id": "Nj3UpM8lBC6i"
      },
      "source": [
        ""
      ],
      "execution_count": null,
      "outputs": []
    },
    {
      "cell_type": "code",
      "metadata": {
        "colab": {
          "base_uri": "https://localhost:8080/"
        },
        "id": "ux5pDI5Qj9z0",
        "outputId": "06625316-d4ee-457f-8e21-d00a4b24e19e"
      },
      "source": [
        "import random\n",
        "num1=int(input('Enter number 1: '))\n",
        "num2=int(input('Enter number 2: '))\n",
        "def generator (num1,num2):\n",
        "  result=random.randint(num1,num2)\n",
        "  print(result)\n",
        "generator(num1,num2)"
      ],
      "execution_count": 5,
      "outputs": [
        {
          "output_type": "stream",
          "text": [
            "Enter number 1: 10\n",
            "Enter number 2: 20\n",
            "18\n"
          ],
          "name": "stdout"
        }
      ]
    },
    {
      "cell_type": "code",
      "metadata": {
        "colab": {
          "base_uri": "https://localhost:8080/"
        },
        "id": "XN3dQD0dmurc",
        "outputId": "534dcdf4-2c34-4144-eccf-2226b0fc82b4"
      },
      "source": [
        "num=int(input('Enter number: '))\n",
        "def check (num):\n",
        "  if num>0:\n",
        "    print('The number is a positive number')\n",
        "  elif num<0:\n",
        "    print('The number is a negative number')\n",
        "  else:\n",
        "    print('The number is 0')\n",
        "check(num)"
      ],
      "execution_count": 12,
      "outputs": [
        {
          "output_type": "stream",
          "text": [
            "Enter number: 0\n",
            "The number is 0\n"
          ],
          "name": "stdout"
        }
      ]
    },
    {
      "cell_type": "code",
      "metadata": {
        "colab": {
          "base_uri": "https://localhost:8080/"
        },
        "id": "ybbwc9AMqibG",
        "outputId": "8b4bfcd2-5d1a-46e7-cd0f-e7f16f8dd6e2"
      },
      "source": [
        "def div(denominator):\n",
        "  try:\n",
        "    print(70/denominator)\n",
        "  except:\n",
        "    print('Error: You have tried dividing by 0')\n",
        "div(7)\n",
        "div(0)\n",
        "div(2)"
      ],
      "execution_count": 15,
      "outputs": [
        {
          "output_type": "stream",
          "text": [
            "10.0\n",
            "Error: You have tried dividing by 0\n",
            "35.0\n"
          ],
          "name": "stdout"
        }
      ]
    },
    {
      "cell_type": "code",
      "metadata": {
        "colab": {
          "base_uri": "https://localhost:8080/"
        },
        "id": "PhztjRCOsnO6",
        "outputId": "a3a10142-4e60-4c77-e703-b6eebf2b9e06"
      },
      "source": [
        "games=input('How many games do you have?: ')\n",
        "try:\n",
        "  if (int(games)>5):\n",
        "    print('That is quite a number')\n",
        "  else:\n",
        "    print('That is not too many')\n",
        "except ValueError:\n",
        "  print('Please input a number')\n",
        "  \n"
      ],
      "execution_count": 18,
      "outputs": [
        {
          "output_type": "stream",
          "text": [
            "How many games do you have?: ten\n",
            "Please input a number\n"
          ],
          "name": "stdout"
        }
      ]
    },
    {
      "cell_type": "code",
      "metadata": {
        "id": "QQbbfKnb2dDC"
      },
      "source": [
        "import random\n",
        "\n",
        "name = ''\n",
        "difficulty = 'E'\n",
        "guess = 0\n",
        "guessed_number = 0\n",
        "\n",
        "def userinfo():\n",
        "  global name\n",
        "  name = input(\"Hello, welcome to the game, Please enter your Name\")\n",
        "  print(\"WELCOME \"+name+\" Let's Get Started!\")\n",
        "\n",
        "\n",
        "def playgame():\n",
        "  global guess\n",
        "  global guessed_number\n",
        "  random_number = random.randint(0,20)\n",
        "  counter = 0\n",
        "\n",
        "  while(counter<guess):\n",
        "    guessed_number = int(input(\"Please take a guess\"))\n",
        "    if(guessed_number < random_number):\n",
        "      print(\"Your guess is too low\")\n",
        "      counter = counter + 1\n",
        "    elif(guessed_number > random_number):\n",
        "      print(\"YOur guess is too high, Try again\")\n",
        "      counter = counter + 1\n",
        "    else:\n",
        "      break #he / she guessed it right\n",
        "  \n",
        "  if(guessed_number == random_number):\n",
        "    print(\"Congrats, you guessed it right, the number is \",random_number)\n",
        "    print(\"The number of guesses you took :\", counter)\n",
        "  else:\n",
        "    print(\"Sorry, you have ran out of Guesses. The Number was\",random_number)\n",
        "\n",
        "\n",
        "\n",
        "def applysettings():\n",
        "  global guess\n",
        "  if(difficulty == 'E'):\n",
        "    print(\"Hey, you have chosen Easy Difficulty. YOU have 8 Guesses.\")\n",
        "    guess = 8\n",
        "  elif(difficulty == 'M'):\n",
        "    print(\"Medium Difficulty!! YOu will get 6 Guesses\")\n",
        "    guess = 6\n",
        "  else:\n",
        "    print(\"YOu have chosen Hardest Difficulty, GOOD LUCK! only 3 Guesses\")\n",
        "    guess = 3\n",
        "  playgame()\n",
        "\n",
        "def startgame():\n",
        "  global difficulty\n",
        "  userinfo()\n",
        "  print(\"Please choose a Difficulty. By default difficulty is Easy. Enter E for Easy, or M for Medium and H for Hard\")\n",
        "  difficulty = input()\n",
        "  applysettings()\n",
        "\n",
        "startgame()"
      ],
      "execution_count": null,
      "outputs": []
    },
    {
      "cell_type": "code",
      "metadata": {
        "colab": {
          "base_uri": "https://localhost:8080/"
        },
        "id": "ogV-8UT72eg1",
        "outputId": "004875ca-864d-44c9-cd6e-d989ffdaea41"
      },
      "source": [
        "import random\n",
        "\n",
        "name=' '\n",
        "difficulty='E'\n",
        "guess=0\n",
        "guessed_number=0\n",
        "\n",
        "\n",
        "def userinfo():\n",
        "  global name\n",
        "  global difficulty\n",
        "  name=input('Hello! Welcome to the Game. Please enter your name: ')\n",
        "  print('Hello '+name+' Lets get started')\n",
        "  print('Please choose a difficulty. By default difficulty is easy. Enter M for Medium and H for High')\n",
        "  difficulty=input()\n",
        "\n",
        "userinfo()\n",
        "\n",
        "def applysettings():\n",
        "  global guess\n",
        "  if difficulty=='E':\n",
        "    print('Hey! You have chosen easy difficulty. You have 8 guesses')\n",
        "    guess=8\n",
        "  elif difficulty=='M':\n",
        "    print('Hey! You have chosen medium difficulty. You have 6 guesses')\n",
        "    guess=6\n",
        "  else:\n",
        "    print('You have only 3 guesses')\n",
        "    guess=3\n",
        "\n",
        "applysettings()\n",
        "\n",
        "def playgame():\n",
        "  random_number=random.randint(0,20)\n",
        "  counter=0\n",
        "\n",
        "  while (counter<guess):\n",
        "    guessed_number=int(input('Please take a guess between 0 and 20: '))\n",
        "    if (guessed_number<random_number):\n",
        "      print('Your guessed number is too low')\n",
        "      counter=counter+1\n",
        "    elif (guessed_number>random_number):\n",
        "      print('Your guessed number is too high')\n",
        "      counter=counter+1\n",
        "    else:\n",
        "      break\n",
        "\n",
        "  if (guessed_number==random_number):\n",
        "    print('Congrats! Your guess is correct. The number is: ',random_number)\n",
        "    print(\"The number of guesses you took :\", counter)\n",
        "  else:\n",
        "    print('Sorry You ran out of guesses. The number was: ',random_number)\n",
        "\n",
        "playgame()\n",
        "\n",
        "\n",
        "  \n",
        "\n",
        "\n",
        "\n",
        "\n",
        "\n",
        "\n",
        "\n",
        "\n",
        "\n",
        "\n",
        "\n",
        "\n",
        " \n",
        "\n",
        "\n",
        "\n",
        "\n",
        "\n",
        "\n",
        "\n",
        "\n",
        "\n",
        "\n"
      ],
      "execution_count": 35,
      "outputs": [
        {
          "output_type": "stream",
          "text": [
            "Hello! Welcome to the Game. Please enter your name: Ram Sharan\n",
            "Hello Ram Sharan Lets get started\n",
            "Please choose a difficulty. By default difficulty is easy. Enter M for Medium and H for High\n",
            "E\n",
            "Hey! You have chosen easy difficulty. You have 8 guesses\n",
            "Please take a guess between 0 and 20: 14\n",
            "Your guessed number is too high\n",
            "Please take a guess between 0 and 20: 8\n",
            "Your guessed number is too low\n",
            "Please take a guess between 0 and 20: 9\n",
            "Congrats! Your guess is correct. The number is:  9\n",
            "The number of guesses you took : 2\n"
          ],
          "name": "stdout"
        }
      ]
    },
    {
      "cell_type": "code",
      "metadata": {
        "colab": {
          "base_uri": "https://localhost:8080/"
        },
        "id": "P72Hi6RcyDGN",
        "outputId": "3c04f5ad-6944-46dd-d9ea-a41fc4f87983"
      },
      "source": [
        "num1=int(input('Enter number 1: '))\n",
        "num2=int(input('Enter number 2: '))\n",
        "\n",
        "def rangesum(num1,num2):\n",
        "  sum=0\n",
        "  for i in range(num1,num2+1,5):\n",
        "    sum=sum+i\n",
        "  print('The sum is: ',sum)\n",
        "  \n",
        "rangesum(num1,num2)\n",
        "    "
      ],
      "execution_count": 49,
      "outputs": [
        {
          "output_type": "stream",
          "text": [
            "Enter number 1: 5\n",
            "Enter number 2: 10\n",
            "The sum is:  15\n"
          ],
          "name": "stdout"
        }
      ]
    },
    {
      "cell_type": "code",
      "metadata": {
        "colab": {
          "base_uri": "https://localhost:8080/"
        },
        "id": "RnWlXMpj19Bc",
        "outputId": "25ab7311-cda2-41cc-e4d4-df10f04df7df"
      },
      "source": [
        "num1=int(input('Enter number 1: '))\n",
        "num2=int(input('Enter number 2: '))\n",
        "increment=int(input('Enter increment value: '))\n",
        "def rangesum(num1,num2):\n",
        "  sum=0\n",
        "  for i in range(num1,num2+1,increment):\n",
        "    sum=sum+i\n",
        "  print('The sum is: ',sum)\n",
        "  \n",
        "rangesum(num1,num2)"
      ],
      "execution_count": 53,
      "outputs": [
        {
          "output_type": "stream",
          "text": [
            "Enter number 1: 1\n",
            "Enter number 2: 4\n",
            "Enter increment value: 1\n",
            "The sum is:  10\n"
          ],
          "name": "stdout"
        }
      ]
    },
    {
      "cell_type": "code",
      "metadata": {
        "colab": {
          "base_uri": "https://localhost:8080/"
        },
        "id": "kTfjHllB20BV",
        "outputId": "127b1493-597d-4b03-e779-b7794795dcfb"
      },
      "source": [
        "num1=int(input('Enter number 1: '))\n",
        "num2=int(input('Enter number 2: '))\n",
        "\n",
        "def rangesumeven(num1,num2):\n",
        "  sum=0\n",
        "  for i in range(num1,num2+1):\n",
        "    if i%2==0:\n",
        "      sum=sum+i\n",
        "  print('The sum of all even numbers between',num1,'and', num2,'is:',sum)\n",
        "  \n",
        "rangesumeven(num1,num2)"
      ],
      "execution_count": 65,
      "outputs": [
        {
          "output_type": "stream",
          "text": [
            "Enter number 1: 12\n",
            "Enter number 2: 23\n",
            "The sum of all even numbers between 12 and 23 is: 102\n"
          ],
          "name": "stdout"
        }
      ]
    },
    {
      "cell_type": "code",
      "metadata": {
        "colab": {
          "base_uri": "https://localhost:8080/"
        },
        "id": "XnJ5ZJF67GZi",
        "outputId": "d69d90f1-4329-4c96-c905-aae6ffcbe34c"
      },
      "source": [
        "num1=int(input('Enter number 1: '))\n",
        "num2=int(input('Enter number 2: '))\n",
        "\n",
        "def rangesumodd(num1,num2):\n",
        "  sum=0\n",
        "  for i in range(num1,num2+1):\n",
        "    if i%2!=0:\n",
        "      sum=sum+i\n",
        "  print('The sum of all odd numbers between',num1,'and', num2,'is:',sum)\n",
        "  \n",
        "rangesumodd(num1,num2)"
      ],
      "execution_count": 67,
      "outputs": [
        {
          "output_type": "stream",
          "text": [
            "Enter number 1: 1\n",
            "Enter number 2: 3\n",
            "The sum of all odd numbers between 1 and 3 is: 4\n"
          ],
          "name": "stdout"
        }
      ]
    },
    {
      "cell_type": "code",
      "metadata": {
        "colab": {
          "base_uri": "https://localhost:8080/"
        },
        "id": "ryAn-M9W7o2g",
        "outputId": "bac7882e-d540-41a8-d24e-7b84c11a920c"
      },
      "source": [
        "num1=int(input('Enter number 1: '))\n",
        "num2=int(input('Enter number 2: '))\n",
        "\n",
        "def rangesum(num1,num2):\n",
        "  even_sum=0\n",
        "  odd_sum=0\n",
        "  counter1=0\n",
        "  counter2=0\n",
        "  for i in range(num1,num2+1):\n",
        "    if i%2==0:\n",
        "      even_sum=even_sum+i\n",
        "      counter1=counter1+1\n",
        "    else:\n",
        "      odd_sum=odd_sum+i\n",
        "      counter2=counter2+1\n",
        "  print('The sum of all even numbers between',num1,'and', num2,'is:',even_sum)\n",
        "  print('The total even numbers is:',counter1)\n",
        "  print('The sum of all odd numbers between',num1,'and', num2,'is:',odd_sum)\n",
        "  print('The total even numbers is:',counter2)\n",
        "  \n",
        "rangesum(num1,num2)"
      ],
      "execution_count": 77,
      "outputs": [
        {
          "output_type": "stream",
          "text": [
            "Enter number 1: 1\n",
            "Enter number 2: 3\n",
            "The sum of all even numbers between 1 and 3 is: 2\n",
            "The total even numbers is: 1\n",
            "The sum of all odd numbers between 1 and 3 is: 4\n",
            "The total even numbers is: 2\n"
          ],
          "name": "stdout"
        }
      ]
    },
    {
      "cell_type": "code",
      "metadata": {
        "colab": {
          "base_uri": "https://localhost:8080/"
        },
        "id": "3YMAedqWLogb",
        "outputId": "36f6f514-d520-4662-d69f-528d2424311f"
      },
      "source": [
        "number_entered=int(input('Please enter a number to be searched: '))\n",
        "placenum_found=-1\n",
        "list=[1,25,38,41,50]\n",
        "def linear_search():\n",
        "  for i in range(0,5,1):\n",
        "    if number_entered==list[i]:\n",
        "      placenum_found=i\n",
        "      break\n",
        "  if placenum_found==-1:\n",
        "    print(\"The number is not found\")\n",
        "  else:\n",
        "    print('The number is found at: ',str(placenum_found))\n",
        "\n",
        "linear_search()\n",
        "\n",
        "\n"
      ],
      "execution_count": 12,
      "outputs": [
        {
          "output_type": "stream",
          "text": [
            "Please enter a number to be searched: 25\n",
            "The number is found at:  1\n"
          ],
          "name": "stdout"
        }
      ]
    },
    {
      "cell_type": "code",
      "metadata": {
        "id": "WhVWyqvzb-km"
      },
      "source": [
        "number_entered=int(input('Please enter a number to be searched: '))\n",
        "placenum_found=-1\n",
        "list=[1,25,38,41,50]\n",
        "def linear_search():\n",
        "  for i in range(0,5,1):\n",
        "    if number_entered==list[i]:\n",
        "      placenum_found=i\n",
        "      break\n",
        "  if placenum_found==-1:\n",
        "    print(\"The number is not found\")\n",
        "  else:\n",
        "    print('The number is found at: ',str(placenum_found))\n",
        "\n",
        "linear_search()"
      ],
      "execution_count": null,
      "outputs": []
    },
    {
      "cell_type": "code",
      "metadata": {
        "id": "QAQEmTeT0mIu"
      },
      "source": [
        "#praful easy\n",
        "import random\n",
        "\n",
        "print(\" HEllo Welcome to the Game, Please enter your name\")\n",
        "name = input()\n",
        "print(\"Hell \"+name+\" Let's play the Game. YOu have to Guess the correct Number\")\n",
        "\n",
        "difficulty = input(\"Please enter a difficulty. Choose 'E' for Easy, 'M' for Medium and ' H' For Hardest Difficulty\")\n",
        "\n",
        "if(difficulty == \"E\"):\n",
        "    print(\"you have chose Easy settings. YOu have 8 Guesses\")\n",
        "    total_guess = 8\n",
        "elif(difficulty==\"M\"):\n",
        "    print(\"You have chosen the Medium setting. You will get 6 Guesses\")\n",
        "    total_guess = 6\n",
        "else:\n",
        "    print(\"you have chosen Hard difficulty, you get 3 Guesses only\")\n",
        "    total_guess = 3\n",
        "    \n",
        "guess_used = 0\n",
        "\n",
        "random_num = random.randint(0,20)\n",
        "\n",
        "\n",
        "\n",
        "while(guess_used<total_guess):\n",
        "    guessed_num = int(input(\"please enter the number. Take your Guess\"))\n",
        "    \n",
        "    if(guessed_num > random_num):\n",
        "        print(\"Your Guess is too high, try again\")\n",
        "        guess_used = guess_used+1\n",
        "    \n",
        "    elif(guessed_num < random_num):\n",
        "        print(\"your guess is too low Try again\")\n",
        "        guess_used = guess_used+1\n",
        "        \n",
        "    else:\n",
        "        break  #Right Guess \n",
        "    \n",
        "if(guessed_num == random_num):\n",
        "    print(\"Congrats, you got it right. the Number was: \",random_num)\n",
        "    print(\"total guesses taken by you: \",guess_used)\n",
        "else:\n",
        "    print(\"Sorry, you lost. All guesses used up!, The number was: \",random_num)"
      ],
      "execution_count": null,
      "outputs": []
    },
    {
      "cell_type": "code",
      "metadata": {
        "id": "JSws73FJMGYW"
      },
      "source": [
        ")"
      ],
      "execution_count": null,
      "outputs": []
    },
    {
      "cell_type": "code",
      "metadata": {
        "colab": {
          "base_uri": "https://localhost:8080/"
        },
        "id": "5z22vN_L25AE",
        "outputId": "72f039fb-ab26-42ee-a0b7-0fb1be01c80c"
      },
      "source": [
        "user_name=input('Please enter your user name: ')\n",
        "\n",
        "def details():\n",
        "  try:\n",
        "    phone_number=int(input('Please enter your phone number'))\n",
        "    print('Your user name is: ',user_name)\n",
        "    print('Your phone number is: ', phone_number)\n",
        "  except:\n",
        "    print('Please enter number for phone number')\n",
        "details()"
      ],
      "execution_count": 9,
      "outputs": [
        {
          "output_type": "stream",
          "text": [
            "Please enter your user name: ajshdhd\n",
            "Please enter your phone number356474\n",
            "Your user name is:  ajshdhd\n",
            "Your phone number is:  356474\n"
          ],
          "name": "stdout"
        }
      ]
    },
    {
      "cell_type": "code",
      "metadata": {
        "colab": {
          "base_uri": "https://localhost:8080/"
        },
        "id": "W71p7-bZ6AkZ",
        "outputId": "2fc43c07-140b-4f16-c997-69ec8099158c"
      },
      "source": [
        "mylist=[123,'aparna',334,'abc',36454,'agagdfd']\n",
        "print(mylist[0],mylist[3])"
      ],
      "execution_count": 15,
      "outputs": [
        {
          "output_type": "stream",
          "text": [
            "123 abc\n"
          ],
          "name": "stdout"
        }
      ]
    },
    {
      "cell_type": "code",
      "metadata": {
        "colab": {
          "base_uri": "https://localhost:8080/"
        },
        "id": "nSJL62lb747Y",
        "outputId": "562cb9b8-bb65-468e-8f9c-db1985a12035"
      },
      "source": [
        "mylist2=[[1,2,3,4,5],['aba','dhdhd','dhdhd']]\n",
        "print(mylist2)"
      ],
      "execution_count": 17,
      "outputs": [
        {
          "output_type": "stream",
          "text": [
            "[[1, 2, 3, 4, 5], ['aba', 'dhdhd', 'dhdhd']]\n"
          ],
          "name": "stdout"
        }
      ]
    },
    {
      "cell_type": "code",
      "metadata": {
        "colab": {
          "base_uri": "https://localhost:8080/"
        },
        "id": "Fx62JcB38HiB",
        "outputId": "3b0efbdc-833c-4cc9-89b0-6e34248e9d86"
      },
      "source": [
        "mylist3=[[1,2,3,4,5],['aba','dhdhd','dhdhd']]\n",
        "print(mylist3[0][-3])"
      ],
      "execution_count": 22,
      "outputs": [
        {
          "output_type": "stream",
          "text": [
            "3\n"
          ],
          "name": "stdout"
        }
      ]
    },
    {
      "cell_type": "code",
      "metadata": {
        "colab": {
          "base_uri": "https://localhost:8080/"
        },
        "id": "tE469uqK-6cy",
        "outputId": "eabc361c-ef58-4796-9867-66c2d49c8d82"
      },
      "source": [
        "mylist4=[['animal','horse'],['dog','cat']]\n",
        "print('My '+mylist4[0][0]+' is '+mylist4[1][0])"
      ],
      "execution_count": 25,
      "outputs": [
        {
          "output_type": "stream",
          "text": [
            "My animal is dog\n"
          ],
          "name": "stdout"
        }
      ]
    },
    {
      "cell_type": "code",
      "metadata": {
        "colab": {
          "base_uri": "https://localhost:8080/"
        },
        "id": "XCG0vt75AJKT",
        "outputId": "746965af-9472-4bdd-92c4-ad970cb926bd"
      },
      "source": [
        "my_pets=['dog','cat','horse']\n",
        "new_pets=my_pets\n",
        "print(new_pets[0:3])"
      ],
      "execution_count": 27,
      "outputs": [
        {
          "output_type": "stream",
          "text": [
            "['dog', 'cat', 'horse']\n"
          ],
          "name": "stdout"
        }
      ]
    },
    {
      "cell_type": "code",
      "metadata": {
        "colab": {
          "base_uri": "https://localhost:8080/"
        },
        "id": "3mkRtKeYAarx",
        "outputId": "0d97ae09-e9d3-43b2-9108-fc7fbdb44af8"
      },
      "source": [
        "my_pets=['dog','cat','horse']\n",
        "my_pets[0:3]=[1,2,3]\n",
        "new_pets=my_pets\n",
        "print(new_pets)"
      ],
      "execution_count": 28,
      "outputs": [
        {
          "output_type": "stream",
          "text": [
            "[1, 2, 3]\n"
          ],
          "name": "stdout"
        }
      ]
    },
    {
      "cell_type": "code",
      "metadata": {
        "colab": {
          "base_uri": "https://localhost:8080/"
        },
        "id": "8brUekR4BP-I",
        "outputId": "2e65113b-82f3-48a7-d724-ae75ec175b7a"
      },
      "source": [
        "my_items=['cpu','mouse','keyboard']\n",
        "print(my_items[:3])\n",
        "print(my_items[1:])\n",
        "del my_items[1]\n",
        "print(my_items)\n",
        "len (my_items)\n",
        "print(my_items*3)"
      ],
      "execution_count": 35,
      "outputs": [
        {
          "output_type": "stream",
          "text": [
            "['cpu', 'mouse', 'keyboard']\n",
            "['mouse', 'keyboard']\n",
            "['cpu', 'keyboard']\n",
            "['cpu', 'keyboard', 'cpu', 'keyboard', 'cpu', 'keyboard']\n"
          ],
          "name": "stdout"
        }
      ]
    },
    {
      "cell_type": "code",
      "metadata": {
        "colab": {
          "base_uri": "https://localhost:8080/"
        },
        "id": "X-OyOdfzDy4s",
        "outputId": "3c568404-b157-4d52-9320-f00d6bca3807"
      },
      "source": [
        "my_items=['cpu','mouse','keyboard']\n",
        "my_itemsnew=['pen','pencil','eraser']\n",
        "my_combinedlist=my_items+my_itemsnew\n",
        "print(my_combinedlist)"
      ],
      "execution_count": 37,
      "outputs": [
        {
          "output_type": "stream",
          "text": [
            "['cpu', 'mouse', 'keyboard', 'pen', 'pencil', 'eraser']\n"
          ],
          "name": "stdout"
        }
      ]
    },
    {
      "cell_type": "code",
      "metadata": {
        "colab": {
          "base_uri": "https://localhost:8080/"
        },
        "id": "VSU6GhRwEKTX",
        "outputId": "3992e281-f2b8-4558-ee47-8dcb61c13253"
      },
      "source": [
        "list('Aparna')"
      ],
      "execution_count": 39,
      "outputs": [
        {
          "output_type": "execute_result",
          "data": {
            "text/plain": [
              "['A', 'p', 'a', 'r', 'n', 'a']"
            ]
          },
          "metadata": {
            "tags": []
          },
          "execution_count": 39
        }
      ]
    },
    {
      "cell_type": "code",
      "metadata": {
        "colab": {
          "base_uri": "https://localhost:8080/"
        },
        "id": "m8MvgvQeEn-q",
        "outputId": "bb397d3c-c701-4d22-ac97-1924e012cc69"
      },
      "source": [
        "my_items1=['cpu','mouse','keyboard']\n",
        "print('sharperner'in my_items1)\n",
        "print('sharperner'not in my_items1)"
      ],
      "execution_count": 41,
      "outputs": [
        {
          "output_type": "stream",
          "text": [
            "False\n",
            "True\n"
          ],
          "name": "stdout"
        }
      ]
    },
    {
      "cell_type": "code",
      "metadata": {
        "colab": {
          "base_uri": "https://localhost:8080/"
        },
        "id": "WmtEgiUwHwWE",
        "outputId": "e4f416b3-ecc3-4318-ffa3-46de5727c72a"
      },
      "source": [
        "shoppinglist=[]\n",
        "for i in range(0,5):\n",
        "  items=input('Please say what you want?: ')\n",
        "  shoppinglist.append(items)\n",
        "print(shoppinglist)\n",
        "\n"
      ],
      "execution_count": 43,
      "outputs": [
        {
          "output_type": "stream",
          "text": [
            "Please say what you want?: apple\n",
            "Please say what you want?: banana\n",
            "Please say what you want?: strawberry\n",
            "Please say what you want?: blueberry\n",
            "Please say what you want?: mango\n",
            "['apple', 'banana', 'strawberry', 'blueberry', 'mango']\n"
          ],
          "name": "stdout"
        }
      ]
    },
    {
      "cell_type": "code",
      "metadata": {
        "colab": {
          "base_uri": "https://localhost:8080/"
        },
        "id": "QG2dIdiLJ0oK",
        "outputId": "983656fa-7857-440d-a4b3-a6cdd775dc0c"
      },
      "source": [
        "cart1=[]\n",
        "while True:\n",
        "  item=input('Add something to your cart: ')\n",
        "  cart1.append(item)\n",
        "  choice=input('Do you want to add more? Say \"Y\" for yes and \"N\" for no')\n",
        "  if choice=='N':\n",
        "    break\n",
        "\n",
        "print('These are your items: ',cart1)\n",
        "total_items=len(cart1)\n",
        "total_cost=total_items*4\n",
        "\n",
        "print('Your total bill amount= $ ',total_cost)\n",
        "\n"
      ],
      "execution_count": 45,
      "outputs": [
        {
          "output_type": "stream",
          "text": [
            "Add something to your cart: apple\n",
            "Do you want to add more? Say \"Y\" for yes and \"N\" for noY\n",
            "Add something to your cart: banana\n",
            "Do you want to add more? Say \"Y\" for yes and \"N\" for noY\n",
            "Add something to your cart: strawberry\n",
            "Do you want to add more? Say \"Y\" for yes and \"N\" for noY\n",
            "Add something to your cart: mango\n",
            "Do you want to add more? Say \"Y\" for yes and \"N\" for noN\n",
            "These are your items:  ['apple', 'banana', 'strawberry', 'mango']\n",
            "Your total bill amount= $  16\n"
          ],
          "name": "stdout"
        }
      ]
    },
    {
      "cell_type": "code",
      "metadata": {
        "colab": {
          "base_uri": "https://localhost:8080/"
        },
        "id": "iDC_IDODM3NT",
        "outputId": "54adb532-797f-4e0f-dd30-8e5fdccdec41"
      },
      "source": [
        "list (range(0,20))\n",
        "list('abc')"
      ],
      "execution_count": 52,
      "outputs": [
        {
          "output_type": "execute_result",
          "data": {
            "text/plain": [
              "['a', 'b', 'c']"
            ]
          },
          "metadata": {
            "tags": []
          },
          "execution_count": 52
        }
      ]
    },
    {
      "cell_type": "code",
      "metadata": {
        "colab": {
          "base_uri": "https://localhost:8080/"
        },
        "id": "97j9lVjaOV42",
        "outputId": "ae5e0375-107e-49be-c6d5-c8ccf2694283"
      },
      "source": [
        "collection=list(range(0,20))\n",
        "print(collection)"
      ],
      "execution_count": 53,
      "outputs": [
        {
          "output_type": "stream",
          "text": [
            "[0, 1, 2, 3, 4, 5, 6, 7, 8, 9, 10, 11, 12, 13, 14, 15, 16, 17, 18, 19]\n"
          ],
          "name": "stdout"
        }
      ]
    },
    {
      "cell_type": "code",
      "metadata": {
        "colab": {
          "base_uri": "https://localhost:8080/"
        },
        "id": "yw0RDdkwPcQG",
        "outputId": "bee115f9-9a5e-4b89-b2e1-781e5731276c"
      },
      "source": [
        "mybooks=['a','b','c']\n",
        "for i in range (len(mybooks)):\n",
        "  print('I have: ',mybooks[i])"
      ],
      "execution_count": 60,
      "outputs": [
        {
          "output_type": "stream",
          "text": [
            "I have:  a\n",
            "I have:  b\n",
            "I have:  c\n"
          ],
          "name": "stdout"
        }
      ]
    },
    {
      "cell_type": "code",
      "metadata": {
        "colab": {
          "base_uri": "https://localhost:8080/"
        },
        "id": "3Jky8ozBQ5hM",
        "outputId": "c38b42a9-0b73-408d-9173-a19a6277ed08"
      },
      "source": [
        "mypc=['a','b','c','d','e']\n",
        "company,model,ram,ssd,gpu=mypc\n",
        "print(model)"
      ],
      "execution_count": 63,
      "outputs": [
        {
          "output_type": "stream",
          "text": [
            "b\n"
          ],
          "name": "stdout"
        }
      ]
    },
    {
      "cell_type": "code",
      "metadata": {
        "colab": {
          "base_uri": "https://localhost:8080/"
        },
        "id": "z4Ycchf1BFzV",
        "outputId": "9876d64f-cf55-4164-8f5b-32b3f1ea2ab1"
      },
      "source": [
        "list1=[1,2,3,4,5]\n",
        "def sum1():\n",
        "  sum=0\n",
        "  for i in range (len(list1)):\n",
        "    sum=sum+list1[i]\n",
        "\n",
        "  print(sum)\n",
        "sum1()"
      ],
      "execution_count": 9,
      "outputs": [
        {
          "output_type": "stream",
          "text": [
            "15\n"
          ],
          "name": "stdout"
        }
      ]
    },
    {
      "cell_type": "code",
      "metadata": {
        "colab": {
          "base_uri": "https://localhost:8080/",
          "height": 215
        },
        "id": "ODm5_msCDqgV",
        "outputId": "8278a451-a1cd-4e85-aad2-2a0e9f33fdeb"
      },
      "source": [
        "mythings=['apple','banana','mango']\n",
        "mythings.index('apple')\n",
        "mythings.index(0)\n",
        "print(mythings)"
      ],
      "execution_count": 15,
      "outputs": [
        {
          "output_type": "error",
          "ename": "ValueError",
          "evalue": "ignored",
          "traceback": [
            "\u001b[0;31m---------------------------------------------------------------------------\u001b[0m",
            "\u001b[0;31mValueError\u001b[0m                                Traceback (most recent call last)",
            "\u001b[0;32m<ipython-input-15-c42253878b43>\u001b[0m in \u001b[0;36m<module>\u001b[0;34m()\u001b[0m\n\u001b[1;32m      1\u001b[0m \u001b[0mmythings\u001b[0m\u001b[0;34m=\u001b[0m\u001b[0;34m[\u001b[0m\u001b[0;34m'apple'\u001b[0m\u001b[0;34m,\u001b[0m\u001b[0;34m'banana'\u001b[0m\u001b[0;34m,\u001b[0m\u001b[0;34m'mango'\u001b[0m\u001b[0;34m]\u001b[0m\u001b[0;34m\u001b[0m\u001b[0;34m\u001b[0m\u001b[0m\n\u001b[1;32m      2\u001b[0m \u001b[0mmythings\u001b[0m\u001b[0;34m.\u001b[0m\u001b[0mindex\u001b[0m\u001b[0;34m(\u001b[0m\u001b[0;34m'apple'\u001b[0m\u001b[0;34m)\u001b[0m\u001b[0;34m\u001b[0m\u001b[0;34m\u001b[0m\u001b[0m\n\u001b[0;32m----> 3\u001b[0;31m \u001b[0mmythings\u001b[0m\u001b[0;34m.\u001b[0m\u001b[0mindex\u001b[0m\u001b[0;34m(\u001b[0m\u001b[0;36m0\u001b[0m\u001b[0;34m)\u001b[0m\u001b[0;34m\u001b[0m\u001b[0;34m\u001b[0m\u001b[0m\n\u001b[0m\u001b[1;32m      4\u001b[0m \u001b[0mprint\u001b[0m\u001b[0;34m(\u001b[0m\u001b[0mmythings\u001b[0m\u001b[0;34m)\u001b[0m\u001b[0;34m\u001b[0m\u001b[0;34m\u001b[0m\u001b[0m\n",
            "\u001b[0;31mValueError\u001b[0m: 0 is not in list"
          ]
        }
      ]
    },
    {
      "cell_type": "code",
      "metadata": {
        "colab": {
          "base_uri": "https://localhost:8080/"
        },
        "id": "ij6BtqC0ELqS",
        "outputId": "a6244dfe-cd17-4b6d-ea04-e9fb76b987f5"
      },
      "source": [
        "mybooks=['a','b','c','d']\n",
        "mybooks.append('e')\n",
        "print(mybooks)\n",
        "mybooks.insert(2,'f')\n",
        "print(mybooks)"
      ],
      "execution_count": 18,
      "outputs": [
        {
          "output_type": "stream",
          "text": [
            "['a', 'b', 'c', 'd', 'e']\n",
            "['a', 'b', 'f', 'c', 'd', 'e']\n"
          ],
          "name": "stdout"
        }
      ]
    },
    {
      "cell_type": "code",
      "metadata": {
        "colab": {
          "base_uri": "https://localhost:8080/"
        },
        "id": "75nQ3F0yGkig",
        "outputId": "ac0d0d0c-83aa-434d-ff17-ccf3f3733365"
      },
      "source": [
        "mybooks1=['a','b','c','d']\n",
        "mybooks1.remove('b')\n",
        "print(mybooks1)\n",
        "del mybooks1[0]\n",
        "print(mybooks1)\n"
      ],
      "execution_count": 22,
      "outputs": [
        {
          "output_type": "stream",
          "text": [
            "['a', 'c', 'd']\n",
            "['c', 'd']\n"
          ],
          "name": "stdout"
        }
      ]
    },
    {
      "cell_type": "code",
      "metadata": {
        "colab": {
          "base_uri": "https://localhost:8080/"
        },
        "id": "Y0p5leZ-JCqp",
        "outputId": "a9b891e1-f053-4a7a-e8eb-adb1964fd637"
      },
      "source": [
        "numbers=[1,2,3,1,5,8,6,9,7]\n",
        "numbers.sort()\n",
        "print(numbers)\n",
        "numbers.sort(reverse=True)\n",
        "print(numbers)\n",
        "\n",
        "letters=['a','b','e','d','c']\n",
        "letters.sort()\n",
        "print(letters)\n",
        "letters.sort(reverse=True)\n",
        "print(letters)"
      ],
      "execution_count": 29,
      "outputs": [
        {
          "output_type": "stream",
          "text": [
            "[1, 1, 2, 3, 5, 6, 7, 8, 9]\n",
            "[9, 8, 7, 6, 5, 3, 2, 1, 1]\n",
            "['a', 'b', 'c', 'd', 'e']\n",
            "['e', 'd', 'c', 'b', 'a']\n"
          ],
          "name": "stdout"
        }
      ]
    },
    {
      "cell_type": "code",
      "metadata": {
        "colab": {
          "base_uri": "https://localhost:8080/"
        },
        "id": "DH5fV5eOKaBL",
        "outputId": "b05d62d8-a616-40fa-fd9d-fb3fe35758bb"
      },
      "source": [
        "mychoice={'name':'edgar','color':'brown','breed':'dog'}\n",
        "print(mychoice)\n",
        "print(mychoice['name'])"
      ],
      "execution_count": 34,
      "outputs": [
        {
          "output_type": "stream",
          "text": [
            "{'name': 'edgar', 'color': 'brown', 'breed': 'dog'}\n",
            "edgar\n"
          ],
          "name": "stdout"
        }
      ]
    },
    {
      "cell_type": "code",
      "metadata": {
        "colab": {
          "base_uri": "https://localhost:8080/"
        },
        "id": "IuPCPyh-L4_c",
        "outputId": "ea4371a9-4e45-41fa-f847-78a0c698f101"
      },
      "source": [
        "mychoice={1:'edgar','color':'brown','breed':'dog'}\n",
        "print(mychoice[1])"
      ],
      "execution_count": 35,
      "outputs": [
        {
          "output_type": "stream",
          "text": [
            "edgar\n"
          ],
          "name": "stdout"
        }
      ]
    },
    {
      "cell_type": "code",
      "metadata": {
        "colab": {
          "base_uri": "https://localhost:8080/"
        },
        "id": "jKK64MdQMDEP",
        "outputId": "cd1fa1d2-ed2b-4ff9-cf33-745c25f25ff2"
      },
      "source": [
        "mychoice1={'name':'edgar','color':'brown','breed':'dog'}\n",
        "mychoice2={'color':'brown','name':'edgar','breed':'dog'}\n",
        "print(mychoice1==mychoice2)\n",
        "\n",
        "list1=[1,2,3,4,5]\n",
        "list2=[2,3,4,5,5]\n",
        "print(list1==list2)\n"
      ],
      "execution_count": 39,
      "outputs": [
        {
          "output_type": "stream",
          "text": [
            "True\n",
            "False\n"
          ],
          "name": "stdout"
        }
      ]
    },
    {
      "cell_type": "code",
      "metadata": {
        "colab": {
          "base_uri": "https://localhost:8080/"
        },
        "id": "V31HlGDEOAVR",
        "outputId": "480b6af7-5a7f-464a-b2ef-0eafbfc050c5"
      },
      "source": [
        "mychoice1={'name':'edgar','color':'brown','breed':'dog'}\n",
        "print('name' in mychoice1)\n",
        "print('name1' in mychoice1)\n",
        "print('name' not in mychoice1)\n",
        "print('name' not in 'edgar')"
      ],
      "execution_count": 43,
      "outputs": [
        {
          "output_type": "stream",
          "text": [
            "True\n",
            "False\n",
            "False\n",
            "True\n"
          ],
          "name": "stdout"
        }
      ]
    },
    {
      "cell_type": "code",
      "metadata": {
        "colab": {
          "base_uri": "https://localhost:8080/"
        },
        "id": "7PFqMVHTPgfc",
        "outputId": "9168e6da-c496-43ed-ef48-416749f31090"
      },
      "source": [
        "mychoice1={'name':'edgar','color':'brown','breed':'dog'}\n",
        "print(mychoice1.keys())\n",
        "print(mychoice1.values())\n",
        "print(mychoice1.items())\n",
        "\n",
        "print(list(mychoice1.keys()))\n",
        "print(list(mychoice1.values()))\n",
        "print(list(mychoice1.items()))"
      ],
      "execution_count": 49,
      "outputs": [
        {
          "output_type": "stream",
          "text": [
            "dict_keys(['name', 'color', 'breed'])\n",
            "dict_values(['edgar', 'brown', 'dog'])\n",
            "dict_items([('name', 'edgar'), ('color', 'brown'), ('breed', 'dog')])\n",
            "['name', 'color', 'breed']\n",
            "['edgar', 'brown', 'dog']\n",
            "[('name', 'edgar'), ('color', 'brown'), ('breed', 'dog')]\n"
          ],
          "name": "stdout"
        }
      ]
    },
    {
      "cell_type": "code",
      "metadata": {
        "colab": {
          "base_uri": "https://localhost:8080/"
        },
        "id": "gjJ7ZA1KQDx1",
        "outputId": "47b7e9b3-f57f-49ff-c225-0776213b0ffb"
      },
      "source": [
        "mychoice1={'name':'edgar','color':'brown','breed':'dog'}\n",
        "for i in mychoice1.keys():\n",
        "  print(i)\n",
        "\n",
        "mychoice1={'name':'edgar','color':'brown','breed':'dog'}\n",
        "for i in mychoice1.values():\n",
        "  print(i)\n",
        "\n",
        "mychoice1={'name':'edgar','color':'brown','breed':'dog'}\n",
        "for i,t in mychoice1.items():\n",
        "  print(i,t)\n",
        "\n",
        "print('name' in mychoice1.keys())"
      ],
      "execution_count": 59,
      "outputs": [
        {
          "output_type": "stream",
          "text": [
            "name\n",
            "color\n",
            "breed\n",
            "edgar\n",
            "brown\n",
            "dog\n",
            "name edgar\n",
            "color brown\n",
            "breed dog\n",
            "True\n"
          ],
          "name": "stdout"
        }
      ]
    },
    {
      "cell_type": "code",
      "metadata": {
        "colab": {
          "base_uri": "https://localhost:8080/"
        },
        "id": "VQhhxrfGR-oO",
        "outputId": "bc237fdd-bdfe-4342-999f-0da58cd8518a"
      },
      "source": [
        "mychoice1={'name':'edgar','color':'brown','breed':'dog'}\n",
        "if ('name' in mychoice1.keys()):\n",
        "  print('It is there')\n",
        "\n",
        "mychoice1.get('name',0)\n",
        "mychoice1.get('NAME',0)"
      ],
      "execution_count": 63,
      "outputs": [
        {
          "output_type": "stream",
          "text": [
            "It is there\n"
          ],
          "name": "stdout"
        },
        {
          "output_type": "execute_result",
          "data": {
            "text/plain": [
              "0"
            ]
          },
          "metadata": {
            "tags": []
          },
          "execution_count": 63
        }
      ]
    },
    {
      "cell_type": "code",
      "metadata": {
        "colab": {
          "base_uri": "https://localhost:8080/"
        },
        "id": "D0dwsPT-SfTP",
        "outputId": "c00020c3-0eaf-457c-c04c-2a2e4d44f995"
      },
      "source": [
        "mychoice1={'name':'edgar','color':'brown','breed':'dog'}\n",
        "if ('age' not in mychoice1.keys()):\n",
        "  mychoice1['age']=5\n",
        "  print(mychoice1)\n",
        "\n",
        "  mychoice1.setdefault('legs',4)\n",
        "  print(mychoice1)\n"
      ],
      "execution_count": 71,
      "outputs": [
        {
          "output_type": "stream",
          "text": [
            "{'name': 'edgar', 'color': 'brown', 'breed': 'dog', 'age': 5}\n",
            "{'name': 'edgar', 'color': 'brown', 'breed': 'dog', 'age': 5, 'legs': 4}\n"
          ],
          "name": "stdout"
        }
      ]
    },
    {
      "cell_type": "code",
      "metadata": {
        "colab": {
          "base_uri": "https://localhost:8080/"
        },
        "id": "bVOeC9OqUNWS",
        "outputId": "14a3c59c-ba98-4554-e204-72b8c7839c41"
      },
      "source": [
        "count={}\n",
        "\n",
        "string='Hello. This is a sample text.'\n",
        "\n",
        "for i in string:\n",
        "  count.setdefault(i,0)\n",
        "  count[i]=count[i]+1\n",
        "  \n",
        "print(count)"
      ],
      "execution_count": 73,
      "outputs": [
        {
          "output_type": "stream",
          "text": [
            "{'H': 1, 'e': 3, 'l': 3, 'o': 1, '.': 2, ' ': 5, 'T': 1, 'h': 1, 'i': 2, 's': 3, 'a': 2, 'm': 1, 'p': 1, 't': 2, 'x': 1}\n"
          ],
          "name": "stdout"
        }
      ]
    },
    {
      "cell_type": "code",
      "metadata": {
        "id": "DawRhnA-MamW"
      },
      "source": [
        ""
      ],
      "execution_count": null,
      "outputs": []
    },
    {
      "cell_type": "code",
      "metadata": {
        "colab": {
          "base_uri": "https://localhost:8080/"
        },
        "id": "f_eJrhYxWyKi",
        "outputId": "13bad646-d7db-4c54-e4a3-6a1746a10b4d"
      },
      "source": [
        "import pprint\n",
        "count={}\n",
        "string1='''\n",
        "One advanced diverted domestic sex repeated bringing you old. Possible procured her trifling laughter thoughts property she met way. Companions shy had solicitude favourable own. Which could saw guest man now heard but. Lasted my coming uneasy marked so should. Gravity letters it amongst herself dearest an windows by. Wooded ladies she basket season age her uneasy saw. Discourse unwilling am no described dejection incommode no listening of. Before nature his parish boy. \n",
        "\n",
        "Folly words widow one downs few age every seven. If miss part by fact he park just shew. Discovered had get considered projection who favourable. Necessary up knowledge it tolerably. Unwilling departure education is be dashwoods or an. Use off agreeable law unwilling sir deficient curiosity instantly. Easy mind life fact with see has bore ten. Parish any chatty can elinor direct for former. Up as meant widow equal an share least. \n",
        "\n",
        "Another journey chamber way yet females man. Way extensive and dejection get delivered deficient sincerity gentleman age. Too end instrument possession contrasted motionless. Calling offence six joy feeling. Coming merits and was talent enough far. Sir joy northward sportsmen education. Discovery incommode earnestly no he commanded if. Put still any about manor heard. \n",
        "\n",
        "Village did removed enjoyed explain nor ham saw calling talking. Securing as informed declared or margaret. Joy horrible moreover man feelings own shy. Request norland neither mistake for yet. Between the for morning assured country believe. On even feet time have an no at. Relation so in confined smallest children unpacked delicate. Why sir end believe uncivil respect. Always get adieus nature day course for common. My little garret repair to desire he esteem. \n",
        "\n",
        "In it except to so temper mutual tastes mother. Interested cultivated its continuing now yet are. Out interested acceptance our partiality affronting unpleasant why add. Esteem garden men yet shy course. Consulted up my tolerably sometimes perpetual oh. Expression acceptance imprudence particular had eat unsatiable. \n",
        "\n",
        "Had denoting properly jointure you occasion directly raillery. In said to of poor full be post face snug. Introduced imprudence see say unpleasing devonshire acceptance son. Exeter longer wisdom gay nor design age. Am weather to entered norland no in showing service. Nor repeated speaking shy appetite. Excited it hastily an pasture it observe. Snug hand how dare here too. \n",
        "\n",
        "Improve ashamed married expense bed her comfort pursuit mrs. Four time took ye your as fail lady. Up greatest am exertion or marianne. Shy occasional terminated insensible and inhabiting gay. So know do fond to half on. Now who promise was justice new winding. In finished on he speaking suitable advanced if. Boy happiness sportsmen say prevailed offending concealed nor was provision. Provided so as doubtful on striking required. Waiting we to compass assured. \n",
        "\n",
        "You disposal strongly quitting his endeavor two settling him. Manners ham him hearted hundred expense. Get open game him what hour more part. Adapted as smiling of females oh me journey exposed concern. Met come add cold calm rose mile what. Tiled manor court at built by place fanny. Discretion at be an so decisively especially. Exeter itself object matter if on mr in. \n",
        "\n",
        "Effect if in up no depend seemed. Ecstatic elegance gay but disposed. We me rent been part what. An concluded sportsman offending so provision mr education. Bed uncommonly his discovered for estimating far. Equally he minutes my hastily. Up hung mr we give rest half. Painful so he an comfort is manners. \n",
        "\n",
        "Article nor prepare chicken you him now. Shy merits say advice ten before lovers innate add. She cordially behaviour can attempted estimable. Trees delay fancy noise manor do as an small. Felicity now law securing breeding likewise extended and. Roused either who favour why ham. \n",
        "\n",
        "'''\n",
        "for i in string1:\n",
        "  count.setdefault(i,0)\n",
        "  count[i]=count[i]+1\n",
        "  \n",
        "pprint.pprint(count)"
      ],
      "execution_count": 83,
      "outputs": [
        {
          "output_type": "stream",
          "text": [
            "{'\\n': 21,\n",
            " ' ': 612,\n",
            " '.': 82,\n",
            " 'A': 6,\n",
            " 'B': 4,\n",
            " 'C': 4,\n",
            " 'D': 4,\n",
            " 'E': 9,\n",
            " 'F': 3,\n",
            " 'G': 2,\n",
            " 'H': 1,\n",
            " 'I': 7,\n",
            " 'J': 1,\n",
            " 'L': 1,\n",
            " 'M': 3,\n",
            " 'N': 3,\n",
            " 'O': 3,\n",
            " 'P': 5,\n",
            " 'R': 3,\n",
            " 'S': 7,\n",
            " 'T': 3,\n",
            " 'U': 5,\n",
            " 'V': 1,\n",
            " 'W': 6,\n",
            " 'Y': 1,\n",
            " 'a': 239,\n",
            " 'b': 38,\n",
            " 'c': 106,\n",
            " 'd': 153,\n",
            " 'e': 413,\n",
            " 'f': 62,\n",
            " 'g': 67,\n",
            " 'h': 90,\n",
            " 'i': 221,\n",
            " 'j': 12,\n",
            " 'k': 14,\n",
            " 'l': 126,\n",
            " 'm': 100,\n",
            " 'n': 246,\n",
            " 'o': 229,\n",
            " 'p': 72,\n",
            " 'q': 5,\n",
            " 'r': 201,\n",
            " 's': 203,\n",
            " 't': 210,\n",
            " 'u': 92,\n",
            " 'v': 36,\n",
            " 'w': 55,\n",
            " 'x': 14,\n",
            " 'y': 80}\n"
          ],
          "name": "stdout"
        }
      ]
    },
    {
      "cell_type": "code",
      "metadata": {
        "colab": {
          "base_uri": "https://localhost:8080/"
        },
        "id": "t15V9DMTXqpP",
        "outputId": "23f13a0d-da40-4508-c067-1d030a6949d7"
      },
      "source": [
        "employees=[\n",
        "            {\n",
        "              'name':'Praful',\n",
        "              'Designation':'Trainer',\n",
        "              'Age':22,\n",
        "              'salary': 30000\n",
        "            },\n",
        "            {\n",
        "              'name':'Anu',\n",
        "              'Designation':'Trainee',\n",
        "              'Age':22,\n",
        "              'salary': 10000\n",
        "            },\n",
        "            {\n",
        "              'name':'Swatcat',\n",
        "              'Designation':'Assitant',\n",
        "              'Age':22,\n",
        "              'salary': 20000\n",
        "            }\n",
        "             \n",
        "\n",
        "          ]\n",
        "\n",
        "def search(name):\n",
        "  for p in employees:\n",
        "    if p['name']==name:\n",
        "      return p\n",
        "\n",
        "\n",
        "\n",
        "def search2(name,ip1):\n",
        "  for p in employees:\n",
        "    if p['name']==name:\n",
        "      return p[ip1]\n",
        "\n",
        "\n",
        "name = input(\"Who's record do you want?\")\n",
        "print(\"searching...\")\n",
        "\n",
        "choice = input(\"DO you want all relevant info?\")\n",
        "\n",
        "if choice=='yes':\n",
        "  print(search(name))\n",
        "else:\n",
        "  print(\"Enter specific info needed\")\n",
        "  print(\"Age, Designation,Salary\")\n",
        "  ip1=input()\n",
        "  print(search2(name,ip1))"
      ],
      "execution_count": 2,
      "outputs": [
        {
          "output_type": "stream",
          "text": [
            "Who's record do you want?Praful\n",
            "searching...\n",
            "DO you want all relevant info?no\n",
            "Enter specific info needed\n",
            "Age, Designation,Salary\n",
            "salary\n",
            "30000\n"
          ],
          "name": "stdout"
        }
      ]
    },
    {
      "cell_type": "code",
      "metadata": {
        "colab": {
          "base_uri": "https://localhost:8080/"
        },
        "id": "3P02hyJCPpah",
        "outputId": "38b4e548-52e4-49fb-e2b2-150c59678649"
      },
      "source": [
        "print('hello, how are you doing?')\n",
        "#print('hello, how's you?'')\n",
        "print('hello, how\\'s you?')"
      ],
      "execution_count": 6,
      "outputs": [
        {
          "output_type": "stream",
          "text": [
            "hello, how are you doing?\n",
            "hello, how's you?\n"
          ],
          "name": "stdout"
        }
      ]
    },
    {
      "cell_type": "code",
      "metadata": {
        "colab": {
          "base_uri": "https://localhost:8080/"
        },
        "id": "4zze78Z5P-CH",
        "outputId": "83b19af7-76dd-4179-bf7b-7cf58d516960"
      },
      "source": [
        "print('hello, how are you doing? \\nHow is your health')"
      ],
      "execution_count": 8,
      "outputs": [
        {
          "output_type": "stream",
          "text": [
            "hello, how are you doing? \n",
            "How is your health\n"
          ],
          "name": "stdout"
        }
      ]
    },
    {
      "cell_type": "code",
      "metadata": {
        "colab": {
          "base_uri": "https://localhost:8080/"
        },
        "id": "xnOXKQ6nQidB",
        "outputId": "98b48bc3-4e3f-48ea-cea6-97513da0b00d"
      },
      "source": [
        "print(r'These are my cat\\'s')"
      ],
      "execution_count": 11,
      "outputs": [
        {
          "output_type": "stream",
          "text": [
            "These are my cat\\'s\n"
          ],
          "name": "stdout"
        }
      ]
    },
    {
      "cell_type": "code",
      "metadata": {
        "colab": {
          "base_uri": "https://localhost:8080/"
        },
        "id": "1kBUQqtUSBqs",
        "outputId": "aef9e088-bba7-4e39-9659-13e091230755"
      },
      "source": [
        "message='''\n",
        "bcvfh\n",
        "bcbbcb\n",
        "cncnncn\n",
        "'''\n",
        "print(message)"
      ],
      "execution_count": 12,
      "outputs": [
        {
          "output_type": "stream",
          "text": [
            "\n",
            "bcvfh\n",
            "bcbbcb\n",
            "cncnncn\n",
            "\n"
          ],
          "name": "stdout"
        }
      ]
    },
    {
      "cell_type": "code",
      "metadata": {
        "colab": {
          "base_uri": "https://localhost:8080/"
        },
        "id": "aIJVNiqOSU8L",
        "outputId": "19a1504b-be35-4862-c444-6ffc81b3ded6"
      },
      "source": [
        "string='Hello, how are you?'\n",
        "string[5]\n",
        "'q' not in string\n",
        "'q' in string"
      ],
      "execution_count": 16,
      "outputs": [
        {
          "output_type": "execute_result",
          "data": {
            "text/plain": [
              "False"
            ]
          },
          "metadata": {
            "tags": []
          },
          "execution_count": 16
        }
      ]
    },
    {
      "cell_type": "code",
      "metadata": {
        "colab": {
          "base_uri": "https://localhost:8080/"
        },
        "id": "_aOEVBI4UH-p",
        "outputId": "67e8f6a4-653c-4f1c-9e1d-e41e87350eca"
      },
      "source": [
        "string='Hello, how are you?'\n",
        "print(string.upper())\n",
        "\n",
        "string='Hello, how are you?'\n",
        "print(string.lower())"
      ],
      "execution_count": 18,
      "outputs": [
        {
          "output_type": "stream",
          "text": [
            "HELLO, HOW ARE YOU?\n",
            "hello, how are you?\n"
          ],
          "name": "stdout"
        }
      ]
    },
    {
      "cell_type": "code",
      "metadata": {
        "colab": {
          "base_uri": "https://localhost:8080/"
        },
        "id": "CJKH1e2iXBot",
        "outputId": "70890f17-577d-457a-f926-90ae6b2514ba"
      },
      "source": [
        "string='Hello, how are you?'\n",
        "print(string.islower())\n",
        "print(string.lower().islower())"
      ],
      "execution_count": 23,
      "outputs": [
        {
          "output_type": "stream",
          "text": [
            "False\n",
            "True\n"
          ],
          "name": "stdout"
        }
      ]
    },
    {
      "cell_type": "code",
      "metadata": {
        "colab": {
          "base_uri": "https://localhost:8080/"
        },
        "id": "KQBKMPwJY0qX",
        "outputId": "65b87482-ca11-4467-f31e-84295fe3f81b"
      },
      "source": [
        "string='Hello, how are you?'\n",
        "string.isalpha()"
      ],
      "execution_count": 24,
      "outputs": [
        {
          "output_type": "execute_result",
          "data": {
            "text/plain": [
              "False"
            ]
          },
          "metadata": {
            "tags": []
          },
          "execution_count": 24
        }
      ]
    },
    {
      "cell_type": "code",
      "metadata": {
        "colab": {
          "base_uri": "https://localhost:8080/"
        },
        "id": "buw_Jd4NY_0y",
        "outputId": "951dd46d-077e-4966-895f-9006d378b271"
      },
      "source": [
        "string='Hello, how are you123?'\n",
        "string.isalnum()"
      ],
      "execution_count": 25,
      "outputs": [
        {
          "output_type": "execute_result",
          "data": {
            "text/plain": [
              "False"
            ]
          },
          "metadata": {
            "tags": []
          },
          "execution_count": 25
        }
      ]
    },
    {
      "cell_type": "code",
      "metadata": {
        "colab": {
          "base_uri": "https://localhost:8080/"
        },
        "id": "fNAdvRrqZEhx",
        "outputId": "54e9c48f-25ea-40ce-d40f-1fde065494fb"
      },
      "source": [
        "string='Hello, how are you?'\n",
        "string.isspace()\n",
        "string='Hello, how are you?'\n",
        "string.istitle()"
      ],
      "execution_count": 28,
      "outputs": [
        {
          "output_type": "execute_result",
          "data": {
            "text/plain": [
              "False"
            ]
          },
          "metadata": {
            "tags": []
          },
          "execution_count": 28
        }
      ]
    },
    {
      "cell_type": "code",
      "metadata": {
        "colab": {
          "base_uri": "https://localhost:8080/"
        },
        "id": "dElimZOebsh7",
        "outputId": "7aaf8d37-10e8-48a6-8c81-665f6de16805"
      },
      "source": [
        "string='Hello, how are you?'\n",
        "string.startswith('H')\n",
        "string.endswith('?')"
      ],
      "execution_count": 32,
      "outputs": [
        {
          "output_type": "execute_result",
          "data": {
            "text/plain": [
              "True"
            ]
          },
          "metadata": {
            "tags": []
          },
          "execution_count": 32
        }
      ]
    },
    {
      "cell_type": "code",
      "metadata": {
        "colab": {
          "base_uri": "https://localhost:8080/"
        },
        "id": "5nRvTCVjcVBI",
        "outputId": "f5d6bcbe-568e-41c7-a527-a0a619dfa185"
      },
      "source": [
        "print(('--').join(['My name is Aparna', 'Im a good girl']))"
      ],
      "execution_count": 36,
      "outputs": [
        {
          "output_type": "stream",
          "text": [
            "My name is Aparna--Im a good girl\n"
          ],
          "name": "stdout"
        }
      ]
    },
    {
      "cell_type": "code",
      "metadata": {
        "colab": {
          "base_uri": "https://localhost:8080/"
        },
        "id": "ItJ2DAa7d00u",
        "outputId": "25150ce6-e067-430a-bb42-31e2f4f3ed23"
      },
      "source": [
        "print(('\\n\\n').join(['Hello','How','are','you?']))"
      ],
      "execution_count": 38,
      "outputs": [
        {
          "output_type": "stream",
          "text": [
            "Hello\n",
            "\n",
            "How\n",
            "\n",
            "are\n",
            "\n",
            "you?\n"
          ],
          "name": "stdout"
        }
      ]
    },
    {
      "cell_type": "code",
      "metadata": {
        "colab": {
          "base_uri": "https://localhost:8080/"
        },
        "id": "ePnokfxOe7o1",
        "outputId": "e223d9db-be62-4568-d76b-967c609869c6"
      },
      "source": [
        "hello='Hello How are you?'\n",
        "print(hello.split('o'))"
      ],
      "execution_count": 43,
      "outputs": [
        {
          "output_type": "stream",
          "text": [
            "['Hell', ' H', 'w are y', 'u?']\n"
          ],
          "name": "stdout"
        }
      ]
    },
    {
      "cell_type": "code",
      "metadata": {
        "colab": {
          "base_uri": "https://localhost:8080/"
        },
        "id": "FWHoFa9qgCw_",
        "outputId": "10498f51-f3e1-47b3-d8d3-bab3f3b785b3"
      },
      "source": [
        "hello='aparna'\n",
        "print(hello.ljust(20,'*'))"
      ],
      "execution_count": 45,
      "outputs": [
        {
          "output_type": "stream",
          "text": [
            "aparna**************\n"
          ],
          "name": "stdout"
        }
      ]
    },
    {
      "cell_type": "code",
      "metadata": {
        "colab": {
          "base_uri": "https://localhost:8080/"
        },
        "id": "MIztraYogis8",
        "outputId": "4ff92b27-e55b-4355-8f4b-8a67fc4189db"
      },
      "source": [
        "hello='aparna'\n",
        "print(hello.replace('a','s'))"
      ],
      "execution_count": 46,
      "outputs": [
        {
          "output_type": "stream",
          "text": [
            "spsrns\n"
          ],
          "name": "stdout"
        }
      ]
    },
    {
      "cell_type": "code",
      "metadata": {
        "id": "Nzywh2THhY2F"
      },
      "source": [
        "cart1=[]\n",
        "while True:\n",
        "  item=input('Add something to your cart: ')\n",
        "  cart1.append(item)\n",
        "  choice=input('Do you want to add more? Say \"Y\" for yes and \"N\" for no')\n",
        "  if choice=='N':\n",
        "    break\n",
        "\n",
        "print('These are your items: ',cart1)\n",
        "total_items=len(cart1)\n",
        "total_cost=total_items*4\n",
        "\n",
        "print('Your total bill amount= $ ',total_cost)"
      ],
      "execution_count": null,
      "outputs": []
    },
    {
      "cell_type": "code",
      "metadata": {
        "colab": {
          "base_uri": "https://localhost:8080/"
        },
        "id": "zhhOpS3KhA2h",
        "outputId": "b749e7c0-ab68-47dc-ce59-16ac8f4ed604"
      },
      "source": [
        "stores={'bread':20,'jam':10,'tape':5}\n",
        "\n",
        "price=list(stores.values())\n",
        "sum=0\n",
        "for i in price:\n",
        "  sum=sum+i\n",
        "print(sum)"
      ],
      "execution_count": 50,
      "outputs": [
        {
          "output_type": "stream",
          "text": [
            "35\n"
          ],
          "name": "stdout"
        }
      ]
    },
    {
      "cell_type": "code",
      "metadata": {
        "colab": {
          "base_uri": "https://localhost:8080/"
        },
        "id": "jMsq-aM2kUdc",
        "outputId": "9ee15dfd-946c-4a6c-bb69-5f13ba96e5c5"
      },
      "source": [
        "import pandas as pd \n",
        "employees = [\n",
        "              {\n",
        "                  'name':'Praful',\n",
        "                  'Designation':'Trainer',\n",
        "                  'Age':22,\n",
        "                  'salary': 30000\n",
        "              },\n",
        "              {\n",
        "                  'name':'Anu',\n",
        "                  'Designation':'Trainee',\n",
        "                  'Age':22,\n",
        "                  'salary': 10000\n",
        "              },\n",
        "              {\n",
        "                  'name':'Swatcat',\n",
        "                  'Designation':'Assitant',\n",
        "                  'Age':22,\n",
        "                  'salary': 20000\n",
        "              }\n",
        "             \n",
        "\n",
        "              ]\n",
        "\n",
        "\n",
        "df=pd.DataFrame(employees)\n",
        "df2=df[df['name']=='Praful']\n",
        "print(df2)\n",
        "\n"
      ],
      "execution_count": 51,
      "outputs": [
        {
          "output_type": "stream",
          "text": [
            "     name Designation  Age  salary\n",
            "0  Praful     Trainer   22   30000\n"
          ],
          "name": "stdout"
        }
      ]
    }
  ]
}